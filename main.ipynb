{
 "cells": [
  {
   "cell_type": "code",
   "execution_count": 2,
   "id": "22ab0667",
   "metadata": {},
   "outputs": [],
   "source": [
    "import bz2"
   ]
  },
  {
   "cell_type": "code",
   "execution_count": 5,
   "id": "cbbaf2c9",
   "metadata": {},
   "outputs": [],
   "source": [
    "with open(\"enwiki-latest-pages-articles-multistream-index.txt.bz2\", \"rb\") as f:\n",
    "  index_compressed = f.read()"
   ]
  },
  {
   "cell_type": "code",
   "execution_count": 11,
   "id": "e9131e69",
   "metadata": {},
   "outputs": [],
   "source": [
    "index_bytes = bz2.decompress(index_compressed)"
   ]
  },
  {
   "cell_type": "code",
   "execution_count": 12,
   "id": "35a89b7c",
   "metadata": {},
   "outputs": [],
   "source": [
    "index_string = index_bytes.decode()"
   ]
  },
  {
   "cell_type": "code",
   "execution_count": 14,
   "id": "6a179d7a",
   "metadata": {},
   "outputs": [],
   "source": [
    "index_lines = index_string.split(\"\\n\")"
   ]
  },
  {
   "cell_type": "code",
   "execution_count": null,
   "id": "e73ac1e0",
   "metadata": {},
   "outputs": [
    {
     "data": {
      "text/plain": [
       "['575:10:AccessibleComputing',\n",
       " '575:12:Anarchism',\n",
       " '575:13:AfghanistanHistory',\n",
       " '575:14:AfghanistanGeography',\n",
       " '575:15:AfghanistanPeople',\n",
       " '575:18:AfghanistanCommunications',\n",
       " '575:19:AfghanistanTransportations',\n",
       " '575:20:AfghanistanMilitary',\n",
       " '575:21:AfghanistanTransnationalIssues',\n",
       " '575:23:AssistiveTechnology']"
      ]
     },
     "execution_count": 15,
     "metadata": {},
     "output_type": "execute_result"
    }
   ],
   "source": [
    "index_table_raw = [line.split(\":\") for line in index_lines]"
   ]
  }
 ],
 "metadata": {
  "kernelspec": {
   "display_name": "Python 3",
   "language": "python",
   "name": "python3"
  },
  "language_info": {
   "codemirror_mode": {
    "name": "ipython",
    "version": 3
   },
   "file_extension": ".py",
   "mimetype": "text/x-python",
   "name": "python",
   "nbconvert_exporter": "python",
   "pygments_lexer": "ipython3",
   "version": "3.13.5"
  }
 },
 "nbformat": 4,
 "nbformat_minor": 5
}
