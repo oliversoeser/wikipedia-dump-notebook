{
 "cells": [
  {
   "cell_type": "code",
   "execution_count": 1,
   "id": "22ab0667",
   "metadata": {},
   "outputs": [],
   "source": [
    "import bz2"
   ]
  },
  {
   "cell_type": "code",
   "execution_count": null,
   "id": "cbbaf2c9",
   "metadata": {},
   "outputs": [],
   "source": [
    "with open(\"enwiki-latest-pages-articles-multistream-index.txt.bz2\", \"rb\") as f:\n",
    "  index_string = bz2.decompress(f.read()).decode()"
   ]
  },
  {
   "cell_type": "code",
   "execution_count": null,
   "id": "35a89b7c",
   "metadata": {},
   "outputs": [],
   "source": [
    "index_lines = index_string.split(\"\\n\")\n",
    "index_table_raw = [line.split(\":\") for line in index_lines]\n",
    "offsets_raw = [ int(entry[0]) for entry in index_table_raw[:-1] ]\n",
    "offsets = sorted(list(set(offsets_raw)))"
   ]
  },
  {
   "cell_type": "code",
   "execution_count": null,
   "id": "07ee55bb",
   "metadata": {},
   "outputs": [],
   "source": [
    "with open(\"enwiki-latest-pages-articles-multistream.xml.bz2\", \"rb\") as f:\n",
    "  n = len(offsets)\n",
    "  for i in range(n):\n",
    "    f.seek(offsets[i])\n",
    "\n",
    "    if i == n - 1:\n",
    "      b = f.read()\n",
    "    else:\n",
    "      b = f.read(offsets[i+1] - offsets[i])\n",
    "    stream = bz2.BZ2Decompressor()\n",
    "    res = stream.decompress(b)\n",
    "\n",
    "    with open(f\"out/out{i}.txt\", \"w\") as o:\n",
    "      o.write(res.decode())"
   ]
  }
 ],
 "metadata": {
  "kernelspec": {
   "display_name": "Python 3",
   "language": "python",
   "name": "python3"
  },
  "language_info": {
   "codemirror_mode": {
    "name": "ipython",
    "version": 3
   },
   "file_extension": ".py",
   "mimetype": "text/x-python",
   "name": "python",
   "nbconvert_exporter": "python",
   "pygments_lexer": "ipython3",
   "version": "3.11.0"
  }
 },
 "nbformat": 4,
 "nbformat_minor": 5
}
